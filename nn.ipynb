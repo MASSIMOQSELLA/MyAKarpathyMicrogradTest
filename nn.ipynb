{
  "nbformat": 4,
  "nbformat_minor": 0,
  "metadata": {
    "colab": {
      "provenance": [],
      "authorship_tag": "ABX9TyNuDnsds70lDad7ufgOwXgL",
      "include_colab_link": true
    },
    "kernelspec": {
      "name": "python3",
      "display_name": "Python 3"
    },
    "language_info": {
      "name": "python"
    }
  },
  "cells": [
    {
      "cell_type": "markdown",
      "metadata": {
        "id": "view-in-github",
        "colab_type": "text"
      },
      "source": [
        "<a href=\"https://colab.research.google.com/github/MASSIMOQSELLA/MyAKarpathyMicrogradTest/blob/main/nn.ipynb\" target=\"_parent\"><img src=\"https://colab.research.google.com/assets/colab-badge.svg\" alt=\"Open In Colab\"/></a>"
      ]
    },
    {
      "cell_type": "code",
      "execution_count": 5,
      "metadata": {
        "id": "UkT1ZQi9HLK4",
        "colab": {
          "base_uri": "https://localhost:8080/"
        },
        "outputId": "c0bb5a0e-d543-4d4c-a06b-2c1d167e32bc"
      },
      "outputs": [
        {
          "output_type": "stream",
          "name": "stdout",
          "text": [
            "1.6 -> x | -1.5 -> y | 0.10000000000000009 -> s | 0.050000000000000044 -> p | 0.050000000000000044 r\n",
            "Value(data=0.050000000000000044, grad=1, nm=r) da reversed topo, qui sottoposta a _backward\n",
            "Value(data=0.050000000000000044, grad=1, nm=p) da reversed topo, qui sottoposta a _backward\n",
            "Value(data=0.10000000000000009, grad=0.5, nm=s) da reversed topo, qui sottoposta a _backward\n",
            "Value(data=-1.5, grad=0.5, nm=y) da reversed topo, qui sottoposta a _backward\n",
            "Value(data=1.6, grad=0.5, nm=x) da reversed topo, qui sottoposta a _backward\n",
            "Value(data=0.5, grad=0.10000000000000009, nm=z) da reversed topo, qui sottoposta a _backward\n"
          ]
        }
      ],
      "source": [
        "\n",
        "#!git clone https://github.com/MASSIMOQSELLA/MyAKarpathyMicrogradTest.git\n",
        "#!pip install nbimporter\n",
        "\n",
        "#import sys\n",
        "#sys.path.append('/content/MyAKarpathyMicrogradTest/')\n",
        "#print(sys.path)\n",
        "\n",
        "#import os\n",
        "#os.chdir('/content/MyAKarpathyMicrogradTest/')\n",
        "#print(os.listdir('./'))\n",
        "#!ls\n",
        "\n",
        "from myandrejcarpathymicrogradenginecopy import Value\n",
        "\n",
        "\n",
        "import random\n",
        "\n",
        "class Module:\n",
        "\n",
        "    def zero_grad(self):\n",
        "        for p in self.parameters():\n",
        "            p.grad = 0\n",
        "\n",
        "    def parameters(self):\n",
        "        return []\n",
        "\n",
        "class Neuron(Module):\n",
        "\n",
        "    def __init__(self, nin, nonlin=True):\n",
        "        self.w = [Value(random.uniform(-1,1)) for _ in range(nin)]\n",
        "        self.b = Value(0)\n",
        "        self.nonlin = nonlin\n",
        "\n",
        "    def __call__(self, x):\n",
        "        act = sum((wi*xi for wi,xi in zip(self.w, x)), self.b)\n",
        "        return act.relu() if self.nonlin else act\n",
        "\n",
        "    def parameters(self):\n",
        "        return self.w + [self.b]\n",
        "\n",
        "    def __repr__(self):\n",
        "        return f\"{'ReLU' if self.nonlin else 'Linear'}Neuron({len(self.w)})\"\n",
        "\n",
        "class Layer(Module):\n",
        "\n",
        "    def __init__(self, nin, nout, **kwargs):\n",
        "        self.neurons = [Neuron(nin, **kwargs) for _ in range(nout)]\n",
        "\n",
        "    def __call__(self, x):\n",
        "        out = [n(x) for n in self.neurons]\n",
        "        return out[0] if len(out) == 1 else out\n",
        "\n",
        "    def parameters(self):\n",
        "        return [p for n in self.neurons for p in n.parameters()]\n",
        "\n",
        "    def __repr__(self):\n",
        "        return f\"Layer of [{', '.join(str(n) for n in self.neurons)}]\"\n",
        "\n",
        "class MLP(Module):\n",
        "\n",
        "    def __init__(self, nin, nouts):\n",
        "        sz = [nin] + nouts\n",
        "        self.layers = [Layer(sz[i], sz[i+1], nonlin=i!=len(nouts)-1) for i in range(len(nouts))]\n",
        "\n",
        "    def __call__(self, x):\n",
        "        for layer in self.layers:\n",
        "            x = layer(x)\n",
        "        return x\n",
        "\n",
        "    def parameters(self):\n",
        "        return [p for layer in self.layers for p in layer.parameters()]\n",
        "\n",
        "    def __repr__(self):\n",
        "        return f\"MLP of [{', '.join(str(layer) for layer in self.layers)}]\""
      ]
    }
  ]
}